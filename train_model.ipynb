{
 "cells": [
  {
   "cell_type": "code",
   "execution_count": 100,
   "metadata": {},
   "outputs": [],
   "source": [
    "import numpy as np\n",
    "import pandas as pd"
   ]
  },
  {
   "cell_type": "code",
   "execution_count": 163,
   "metadata": {},
   "outputs": [],
   "source": [
    "from tensorflow.keras.models import Sequential\n",
    "from tensorflow.keras.layers import Dense,Convolution2D,MaxPool2D,Flatten,Dropout\n",
    "from tensorflow.keras.preprocessing.image import ImageDataGenerator"
   ]
  },
  {
   "cell_type": "code",
   "execution_count": 164,
   "metadata": {},
   "outputs": [],
   "source": [
    "train_1 = ImageDataGenerator(rescale = 1./255, shear_range=0.2,zoom_range=0.2,horizontal_flip=True)\n",
    "test1 = ImageDataGenerator(rescale= 1./255)"
   ]
  },
  {
   "cell_type": "code",
   "execution_count": 165,
   "metadata": {},
   "outputs": [
    {
     "name": "stdout",
     "output_type": "stream",
     "text": [
      "Found 1314 images belonging to 2 classes.\n",
      "Found 194 images belonging to 2 classes.\n"
     ]
    }
   ],
   "source": [
    "X_train = train_1.flow_from_directory(r'D:\\Smart Bridge\\CNN\\Mask\\DataSet\\train',target_size=(64,64),batch_size=32,class_mode=\"categorical\")\n",
    "X_test = test1.flow_from_directory(r'D:\\Smart Bridge\\CNN\\Mask\\DataSet\\test',target_size=(64,64),batch_size=32,class_mode=\"categorical\")"
   ]
  },
  {
   "cell_type": "code",
   "execution_count": null,
   "metadata": {},
   "outputs": [],
   "source": []
  },
  {
   "cell_type": "markdown",
   "metadata": {},
   "source": []
  },
  {
   "cell_type": "code",
   "execution_count": 166,
   "metadata": {},
   "outputs": [],
   "source": [
    "model = Sequential()"
   ]
  },
  {
   "cell_type": "code",
   "execution_count": 167,
   "metadata": {},
   "outputs": [],
   "source": [
    "model.add(Convolution2D(32,(3,3), input_shape = (64,64,3)))     "
   ]
  },
  {
   "cell_type": "code",
   "execution_count": 168,
   "metadata": {},
   "outputs": [],
   "source": [
    "model.add(MaxPool2D((2,2)))"
   ]
  },
  {
   "cell_type": "code",
   "execution_count": 169,
   "metadata": {},
   "outputs": [],
   "source": [
    "model.add(Flatten())"
   ]
  },
  {
   "cell_type": "code",
   "execution_count": 170,
   "metadata": {},
   "outputs": [],
   "source": [
    "model.add(Dense(128,kernel_initializer = 'random_uniform',activation=\"relu\"))\n",
    "model.add(Dropout(0.5))\n",
    "model.add(Dense(256,kernel_initializer = 'random_uniform',activation=\"relu\"))\n",
    "model.add(Dropout(0.5))\n",
    "model.add(Dense(128,kernel_initializer = 'random_uniform',activation=\"relu\"))\n",
    "model.add(Dropout(0.5))\n",
    "model.add(Dense(256,kernel_initializer = 'random_uniform',activation=\"relu\"))\n",
    "model.add(Dropout(0.5))\n",
    "model.add(Dense(256,kernel_initializer = 'random_uniform',activation=\"relu\"))\n",
    "model.add(Dropout(0.5))"
   ]
  },
  {
   "cell_type": "code",
   "execution_count": 171,
   "metadata": {},
   "outputs": [],
   "source": [
    "model.add(Dense(2,activation=\"softmax\"))"
   ]
  },
  {
   "cell_type": "code",
   "execution_count": 172,
   "metadata": {},
   "outputs": [],
   "source": [
    "model.compile(optimizer='rmsprop',loss='categorical_crossentropy',metrics=['accuracy'])"
   ]
  },
  {
   "cell_type": "code",
   "execution_count": 173,
   "metadata": {},
   "outputs": [
    {
     "name": "stderr",
     "output_type": "stream",
     "text": [
      "C:\\Users\\Prashant Maikhuri\\anaconda3\\lib\\site-packages\\tensorflow\\python\\keras\\engine\\training.py:1940: UserWarning: `Model.fit_generator` is deprecated and will be removed in a future version. Please use `Model.fit`, which supports generators.\n",
      "  warnings.warn('`Model.fit_generator` is deprecated and '\n"
     ]
    },
    {
     "name": "stdout",
     "output_type": "stream",
     "text": [
      "Epoch 1/10\n",
      "41/41 [==============================] - 21s 468ms/step - loss: 0.6296 - accuracy: 0.6195 - val_loss: 0.2805 - val_accuracy: 0.8969\n",
      "Epoch 2/10\n",
      "41/41 [==============================] - 19s 442ms/step - loss: 0.2822 - accuracy: 0.9041 - val_loss: 0.1613 - val_accuracy: 0.9278\n",
      "Epoch 3/10\n",
      "41/41 [==============================] - 18s 430ms/step - loss: 0.2023 - accuracy: 0.9307 - val_loss: 0.1983 - val_accuracy: 0.9175\n",
      "Epoch 4/10\n",
      "41/41 [==============================] - 18s 438ms/step - loss: 0.1567 - accuracy: 0.9490 - val_loss: 0.1745 - val_accuracy: 0.9278\n",
      "Epoch 5/10\n",
      "41/41 [==============================] - 19s 455ms/step - loss: 0.1645 - accuracy: 0.9513 - val_loss: 0.1420 - val_accuracy: 0.9639\n",
      "Epoch 6/10\n",
      "41/41 [==============================] - 19s 465ms/step - loss: 0.1564 - accuracy: 0.9528 - val_loss: 0.1546 - val_accuracy: 0.9485\n",
      "Epoch 7/10\n",
      "41/41 [==============================] - 18s 441ms/step - loss: 0.1465 - accuracy: 0.9513 - val_loss: 0.1242 - val_accuracy: 0.9588\n",
      "Epoch 8/10\n",
      "41/41 [==============================] - 19s 453ms/step - loss: 0.1353 - accuracy: 0.9498 - val_loss: 0.3310 - val_accuracy: 0.8969\n",
      "Epoch 9/10\n",
      "41/41 [==============================] - 18s 446ms/step - loss: 0.1446 - accuracy: 0.9566 - val_loss: 0.2902 - val_accuracy: 0.9175\n",
      "Epoch 10/10\n",
      "41/41 [==============================] - 18s 449ms/step - loss: 0.1266 - accuracy: 0.9642 - val_loss: 0.1530 - val_accuracy: 0.9742\n"
     ]
    },
    {
     "data": {
      "text/plain": [
       "<tensorflow.python.keras.callbacks.History at 0x29f572c91c8>"
      ]
     },
     "execution_count": 173,
     "metadata": {},
     "output_type": "execute_result"
    }
   ],
   "source": [
    "model.fit_generator(X_train,steps_per_epoch = 1315/32 , epochs = 10 , validation_data = X_test,validation_steps = 194/32)"
   ]
  },
  {
   "cell_type": "code",
   "execution_count": 174,
   "metadata": {},
   "outputs": [],
   "source": [
    "model.save(\"mask.h5\")"
   ]
  },
  {
   "cell_type": "code",
   "execution_count": null,
   "metadata": {},
   "outputs": [],
   "source": []
  },
  {
   "cell_type": "code",
   "execution_count": null,
   "metadata": {},
   "outputs": [],
   "source": []
  }
 ],
 "metadata": {
  "kernelspec": {
   "display_name": "Python 3",
   "language": "python",
   "name": "python3"
  },
  "language_info": {
   "codemirror_mode": {
    "name": "ipython",
    "version": 3
   },
   "file_extension": ".py",
   "mimetype": "text/x-python",
   "name": "python",
   "nbconvert_exporter": "python",
   "pygments_lexer": "ipython3",
   "version": "3.7.6"
  }
 },
 "nbformat": 4,
 "nbformat_minor": 4
}
